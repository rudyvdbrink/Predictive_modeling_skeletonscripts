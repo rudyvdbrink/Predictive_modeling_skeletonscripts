{
 "cells": [
  {
   "cell_type": "markdown",
   "metadata": {},
   "source": [
    "## Example notebook for predictive modeling pipeline"
   ]
  },
  {
   "cell_type": "code",
   "execution_count": null,
   "metadata": {},
   "outputs": [],
   "source": [
    "#import libraries\n",
    "import os\n",
    "import numpy as np\n",
    "import pandas as pd\n",
    "import seaborn as sns\n",
    "import matplotlib.pyplot as plt\n",
    "\n",
    "from IPython.display import clear_output\n",
    "\n",
    "from scipy.stats import loguniform\n",
    "\n",
    "from sklearn.model_selection import RandomizedSearchCV, RepeatedStratifiedKFold\n",
    "from sklearn.linear_model import LogisticRegression\n",
    "from sklearn.preprocessing import MinMaxScaler, StandardScaler\n",
    "from sklearn.preprocessing import PolynomialFeatures\n",
    "from sklearn.model_selection import train_test_split \n",
    "from sklearn.metrics import confusion_matrix, accuracy_score, recall_score, precision_score, f1_score, roc_curve, roc_auc_score, classification_report\n",
    "from sklearn.neighbors import KNeighborsClassifier\n",
    "from sklearn.datasets import load_iris\n",
    "from sklearn.inspection import permutation_importance\n",
    "\n",
    "#import supporting functions used for cleaning\n",
    "from supporting_functions import check_duplicates, one_hot, add_full_interactions, add_interactions, sigmoid, linmap, filter_features, plot_permutation_importance"
   ]
  },
  {
   "cell_type": "code",
   "execution_count": null,
   "metadata": {},
   "outputs": [],
   "source": [
    "#load data\n",
    "df = pd.read_csv('file_name.csv',sep='\\t')"
   ]
  },
  {
   "cell_type": "code",
   "execution_count": null,
   "metadata": {},
   "outputs": [],
   "source": [
    "#user-defined target for classification\n",
    "target_column = 'target'"
   ]
  },
  {
   "cell_type": "markdown",
   "metadata": {},
   "source": [
    "## Initial exploration"
   ]
  },
  {
   "cell_type": "code",
   "execution_count": null,
   "metadata": {},
   "outputs": [],
   "source": [
    "df.head()"
   ]
  },
  {
   "cell_type": "code",
   "execution_count": null,
   "metadata": {},
   "outputs": [],
   "source": [
    "#report nans\n",
    "df.isnull().mean()"
   ]
  },
  {
   "cell_type": "code",
   "execution_count": null,
   "metadata": {},
   "outputs": [],
   "source": [
    "df.info()"
   ]
  },
  {
   "cell_type": "code",
   "execution_count": null,
   "metadata": {},
   "outputs": [],
   "source": [
    "# Checking for data imbalance\n",
    "df[target_column].value_counts()"
   ]
  },
  {
   "cell_type": "markdown",
   "metadata": {},
   "source": [
    "## Main function for cleaning"
   ]
  },
  {
   "cell_type": "code",
   "execution_count": null,
   "metadata": {},
   "outputs": [],
   "source": [
    "def clean_data(df,target_column):\n",
    "    ### main preprocessing function:\n",
    "\n",
    "    ## done on train and test set together\n",
    "    \n",
    "    #clean up column names\n",
    "    df.columns = [col.replace(' ', '_') for col in df.columns]\n",
    "    df.columns = [col.replace('(',  '') for col in df.columns]\n",
    "    df.columns = [col.replace(')',  '') for col in df.columns]\n",
    "    df.columns = [col.lower() for col in df.columns]\n",
    "\n",
    "    #drop column names that we don't need\n",
    "    df = df.drop(['column_name_1', 'column_name_2'],axis=1)\n",
    "\n",
    "    #check and report on duplicate data\n",
    "    df = check_duplicates(df)\n",
    "\n",
    "    #run train-test split\n",
    "    #note: X still contains the y-variable in the 'target' column, this is because it \n",
    "    #easier to remove rows / apply cleaning steps without having to do it separately \n",
    "    #for the target data vector.\n",
    "    X = df\n",
    "    X_train, X_test, _, _ = train_test_split(X, df[target_column], random_state=1234) \n",
    "\n",
    "    X_train.reset_index(drop=True, inplace=True)\n",
    "    X_test.reset_index(drop=True, inplace=True)\n",
    "\n",
    "\n",
    "    ## done separately for train and test\n",
    "\n",
    "    #imputing\n",
    "    column_to_impute = 'column_name'\n",
    "    X_train[column_to_impute] = X_train[column_to_impute].fillna(X_train[column_to_impute].median())\n",
    "    X_test[column_to_impute]  = X_test[column_to_impute].fillna(X_test[column_to_impute].median())\n",
    "\n",
    "    #non-linear scaling of values\n",
    "    X_train['column_name'] = X_train.column_name.apply(lambda x: np.log(x) if x > 0 else 0)\n",
    "    X_test['column_name']  = X_test.column_name.apply(lambda x: np.log(x) if x > 0 else 0)\n",
    "\n",
    "    #define / identify columns for range normalization\n",
    "    df['column_name'] = df['column_name'].astype('category')\n",
    "    columns_to_scale = df.select_dtypes(include='number').columns.drop(target_column) #identify the numberic columns\n",
    "  \n",
    "    #remove outliers from the training set\n",
    "    outlier_threshold = X_train['fare'].median()+(X_train['fare'].std()*3)\n",
    "    print(str(np.sum(X_train['fare'] > outlier_threshold)) + \" outliers detected\")\n",
    "    X_train = X_train[X_train['fare'] < outlier_threshold]\n",
    "    X_train.reset_index(drop=True, inplace=True)       \n",
    "\n",
    "    #range normalization\n",
    "    scaler = MinMaxScaler()\n",
    "    #scaler = StandardScaler()\n",
    "    scaler.set_output(transform=\"pandas\")\n",
    "\n",
    "    X_train_scaled = scaler.fit_transform(X_train[columns_to_scale])\n",
    "    X_test_scaled  = scaler.transform(X_test[columns_to_scale])\n",
    "    X_train = pd.concat([X_train_scaled, X_train.drop(columns_to_scale,axis=1)], axis=1)\n",
    "    X_test  = pd.concat([X_test_scaled, X_test.drop(columns_to_scale,axis=1)], axis=1)\n",
    "\n",
    "    #separate the target\n",
    "    y_train = X_train.pop(target_column)\n",
    "    y_test  = X_test.pop(target_column)\n",
    "\n",
    "    return X_train, X_test, y_train, y_test"
   ]
  },
  {
   "cell_type": "markdown",
   "metadata": {},
   "source": [
    "##  Main function for Feature engineering"
   ]
  },
  {
   "cell_type": "code",
   "execution_count": null,
   "metadata": {},
   "outputs": [],
   "source": [
    "def feature_engineer(df,columns_to_interact,columns_to_dummycode):\n",
    "    ### main feature engineering function:\n",
    "\n",
    "    #add interaction terms\n",
    "    df = add_interactions(df,columns_to_interact)\n",
    "\n",
    "    #one-hot encode categorical variables\n",
    "    df = one_hot(df,columns_to_dummycode)\n",
    "\n",
    "    return df"
   ]
  },
  {
   "cell_type": "markdown",
   "metadata": {},
   "source": [
    "## Clean the data and make features"
   ]
  },
  {
   "cell_type": "code",
   "execution_count": null,
   "metadata": {},
   "outputs": [],
   "source": [
    "X_train, X_test, y_train, y_test = clean_data(df,target_column)"
   ]
  },
  {
   "cell_type": "code",
   "execution_count": null,
   "metadata": {},
   "outputs": [],
   "source": [
    "sns.pairplot(pd.concat([X_train, y_train],axis=1), hue=target_column, height=2)"
   ]
  },
  {
   "cell_type": "code",
   "execution_count": null,
   "metadata": {},
   "outputs": [],
   "source": [
    "columns_to_interact  = ['column_1','column_2']\n",
    "columns_to_dummycode = ['column_3','column_4']\n",
    "\n",
    "X_train = feature_engineer(X_train,columns_to_interact,columns_to_dummycode)\n",
    "X_test  = feature_engineer(X_test,columns_to_interact,columns_to_dummycode)"
   ]
  },
  {
   "cell_type": "markdown",
   "metadata": {},
   "source": [
    "## Select features and check the model"
   ]
  },
  {
   "cell_type": "code",
   "execution_count": null,
   "metadata": {},
   "outputs": [],
   "source": [
    "#select features with filtering\n",
    "thresh = 0.95 #remove features that correlate above this threshold\n",
    "X_train, X_test = filter_features(X_train,X_test,thresh)\n",
    "\n",
    "#plot correlation between regressors\n",
    "sns.heatmap(X_train.corr(),vmin=-1,vmax=1)"
   ]
  },
  {
   "cell_type": "markdown",
   "metadata": {},
   "source": [
    "## Fit the model"
   ]
  },
  {
   "cell_type": "code",
   "execution_count": null,
   "metadata": {},
   "outputs": [],
   "source": [
    "# instantiate logistic regression\n",
    "lr = LogisticRegression(max_iter=10000)\n",
    "#lr.get_params()\n",
    "#lr.get_params().keys()\n",
    "\n",
    "# define evaluation\n",
    "cv = RepeatedStratifiedKFold(n_splits=5, n_repeats=3, random_state=1234)\n",
    "\n",
    "# define search space\n",
    "param_grid = { \"solver\" : ['newton-cg', 'lbfgs', 'liblinear'],\n",
    "               \"penalty\" : ['none', 'l1', 'l2', 'elasticnet'],\n",
    "               \"C\" : loguniform(1e-5, 100)}\n",
    "\n",
    "# define Random search\n",
    "Random_search = RandomizedSearchCV(lr, param_grid, n_iter=500, scoring='accuracy', n_jobs=1, cv=cv, random_state=1)\n",
    "\n",
    "# execute Random search\n",
    "Random_search.fit(X_train, y_train)\n",
    "\n",
    "#make predictions using the trained model\n",
    "y_pred_train = Random_search.predict(X_train)\n",
    "y_pred       = Random_search.predict(X_test)\n",
    "\n",
    "clear_output(wait=False) #remove all the warnings, we don't need them here\n"
   ]
  },
  {
   "cell_type": "markdown",
   "metadata": {},
   "source": [
    "## Evaluate the model"
   ]
  },
  {
   "cell_type": "code",
   "execution_count": null,
   "metadata": {},
   "outputs": [],
   "source": [
    "cfm = confusion_matrix(y_test, y_pred)\n",
    "sns.heatmap(cfm, cmap='inferno', annot=True, fmt='d', linewidths=.5)\n",
    "plt.xlabel('Predicted')\n",
    "plt.ylabel('Actual')\n",
    "plt.show()\n",
    "\n",
    "print(\"Training Set Performance:\")\n",
    "print(classification_report(y_train, y_pred_train))\n",
    "print(\"\\nTesting Set Performance:\")\n",
    "print(classification_report(y_test, y_pred))"
   ]
  },
  {
   "cell_type": "code",
   "execution_count": null,
   "metadata": {},
   "outputs": [],
   "source": [
    "#calculate probabilities\n",
    "y_prob_train = Random_search.predict_proba(X_train)\n",
    "y_prob_test =  Random_search.predict_proba(X_test)\n",
    "\n",
    "#calculate baseline and model ROC curves\n",
    "base_fpr,  base_tpr,  _ = roc_curve(y_test, [1 for _ in range(len(y_test))])\n",
    "model_fpr, model_tpr, _ = roc_curve(y_test, y_prob_test[:,1])\n",
    "    \n",
    "#plot ROC curves\n",
    "plt.figure(figsize = (6, 5))\n",
    "plt.plot(base_fpr, base_tpr, 'k', label = 'baseline')\n",
    "plt.plot(model_fpr, model_tpr, 'r', label = 'model')\n",
    "plt.legend()\n",
    "plt.xlabel('1 - Specificity (FPR)')\n",
    "plt.ylabel('Sensitivity (TPR)')\n",
    "plt.title('ROC curve')\n",
    "plt.show()"
   ]
  },
  {
   "cell_type": "code",
   "execution_count": null,
   "metadata": {},
   "outputs": [],
   "source": [
    "print(f'Train ROC AUC Score: {roc_auc_score(y_train, y_prob_train[:,1])}')\n",
    "print(f'Test ROC AUC  Score: {roc_auc_score(y_test,  y_prob_test[:,1])}')"
   ]
  },
  {
   "cell_type": "code",
   "execution_count": null,
   "metadata": {},
   "outputs": [],
   "source": [
    "#compute and plot feature importance\n",
    "feature_importance = permutation_importance(Random_search, X_test,y_test,n_repeats=100,random_state=1234)\n",
    "plot_permutation_importance(feature_importance,X_test.columns)"
   ]
  }
 ],
 "metadata": {
  "kernelspec": {
   "display_name": ".venv",
   "language": "python",
   "name": "python3"
  },
  "language_info": {
   "codemirror_mode": {
    "name": "ipython",
    "version": 3
   },
   "file_extension": ".py",
   "mimetype": "text/x-python",
   "name": "python",
   "nbconvert_exporter": "python",
   "pygments_lexer": "ipython3",
   "version": "3.11.3"
  }
 },
 "nbformat": 4,
 "nbformat_minor": 2
}
