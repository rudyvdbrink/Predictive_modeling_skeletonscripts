{
 "cells": [
  {
   "cell_type": "code",
   "execution_count": 135,
   "metadata": {},
   "outputs": [],
   "source": [
    "#import libraries\n",
    "import os\n",
    "import numpy as np\n",
    "import pandas as pd\n",
    "from scipy.spatial import distance\n",
    "import seaborn as sns\n",
    "import matplotlib.pyplot as plt\n",
    "\n",
    "from scipy import stats\n",
    "\n",
    "from sklearn.linear_model import LogisticRegression\n",
    "from sklearn.preprocessing import MinMaxScaler\n",
    "from sklearn.preprocessing import PolynomialFeatures\n",
    "from sklearn.model_selection import train_test_split \n",
    "from sklearn.metrics import confusion_matrix, accuracy_score, recall_score, precision_score, f1_score\n",
    "from sklearn.neighbors import KNeighborsClassifier\n",
    "from sklearn.datasets import load_iris"
   ]
  },
  {
   "cell_type": "code",
   "execution_count": 136,
   "metadata": {},
   "outputs": [],
   "source": [
    "#load data\n",
    "if not os.path.exists(\"./data\"):\n",
    "    raise ValueError('You need to import the data first, run load_data.py')\n",
    "else:\n",
    "    #df = pd.read_csv('data/iris_data.csv',sep='\\t')\n",
    "    df = pd.read_csv('data/data_titanic.csv',sep='\\t')"
   ]
  },
  {
   "cell_type": "code",
   "execution_count": null,
   "metadata": {},
   "outputs": [],
   "source": [
    "#user-defined target for classification\n",
    "target_column = 'survived'\n",
    "#target_column = 'target'"
   ]
  },
  {
   "cell_type": "markdown",
   "metadata": {},
   "source": [
    "## Initial exploration"
   ]
  },
  {
   "cell_type": "code",
   "execution_count": 137,
   "metadata": {},
   "outputs": [
    {
     "data": {
      "text/html": [
       "<div>\n",
       "<style scoped>\n",
       "    .dataframe tbody tr th:only-of-type {\n",
       "        vertical-align: middle;\n",
       "    }\n",
       "\n",
       "    .dataframe tbody tr th {\n",
       "        vertical-align: top;\n",
       "    }\n",
       "\n",
       "    .dataframe thead th {\n",
       "        text-align: right;\n",
       "    }\n",
       "</style>\n",
       "<table border=\"1\" class=\"dataframe\">\n",
       "  <thead>\n",
       "    <tr style=\"text-align: right;\">\n",
       "      <th></th>\n",
       "      <th>survived</th>\n",
       "      <th>pclass</th>\n",
       "      <th>sex</th>\n",
       "      <th>age</th>\n",
       "      <th>sibsp</th>\n",
       "      <th>parch</th>\n",
       "      <th>fare</th>\n",
       "      <th>embarked</th>\n",
       "      <th>class</th>\n",
       "      <th>who</th>\n",
       "      <th>adult_male</th>\n",
       "      <th>deck</th>\n",
       "      <th>embark_town</th>\n",
       "      <th>alive</th>\n",
       "      <th>alone</th>\n",
       "    </tr>\n",
       "  </thead>\n",
       "  <tbody>\n",
       "    <tr>\n",
       "      <th>0</th>\n",
       "      <td>0</td>\n",
       "      <td>3</td>\n",
       "      <td>male</td>\n",
       "      <td>22.0</td>\n",
       "      <td>1</td>\n",
       "      <td>0</td>\n",
       "      <td>7.2500</td>\n",
       "      <td>S</td>\n",
       "      <td>Third</td>\n",
       "      <td>man</td>\n",
       "      <td>True</td>\n",
       "      <td>NaN</td>\n",
       "      <td>Southampton</td>\n",
       "      <td>no</td>\n",
       "      <td>False</td>\n",
       "    </tr>\n",
       "    <tr>\n",
       "      <th>1</th>\n",
       "      <td>1</td>\n",
       "      <td>1</td>\n",
       "      <td>female</td>\n",
       "      <td>38.0</td>\n",
       "      <td>1</td>\n",
       "      <td>0</td>\n",
       "      <td>71.2833</td>\n",
       "      <td>C</td>\n",
       "      <td>First</td>\n",
       "      <td>woman</td>\n",
       "      <td>False</td>\n",
       "      <td>C</td>\n",
       "      <td>Cherbourg</td>\n",
       "      <td>yes</td>\n",
       "      <td>False</td>\n",
       "    </tr>\n",
       "    <tr>\n",
       "      <th>2</th>\n",
       "      <td>1</td>\n",
       "      <td>3</td>\n",
       "      <td>female</td>\n",
       "      <td>26.0</td>\n",
       "      <td>0</td>\n",
       "      <td>0</td>\n",
       "      <td>7.9250</td>\n",
       "      <td>S</td>\n",
       "      <td>Third</td>\n",
       "      <td>woman</td>\n",
       "      <td>False</td>\n",
       "      <td>NaN</td>\n",
       "      <td>Southampton</td>\n",
       "      <td>yes</td>\n",
       "      <td>True</td>\n",
       "    </tr>\n",
       "    <tr>\n",
       "      <th>3</th>\n",
       "      <td>1</td>\n",
       "      <td>1</td>\n",
       "      <td>female</td>\n",
       "      <td>35.0</td>\n",
       "      <td>1</td>\n",
       "      <td>0</td>\n",
       "      <td>53.1000</td>\n",
       "      <td>S</td>\n",
       "      <td>First</td>\n",
       "      <td>woman</td>\n",
       "      <td>False</td>\n",
       "      <td>C</td>\n",
       "      <td>Southampton</td>\n",
       "      <td>yes</td>\n",
       "      <td>False</td>\n",
       "    </tr>\n",
       "    <tr>\n",
       "      <th>4</th>\n",
       "      <td>0</td>\n",
       "      <td>3</td>\n",
       "      <td>male</td>\n",
       "      <td>35.0</td>\n",
       "      <td>0</td>\n",
       "      <td>0</td>\n",
       "      <td>8.0500</td>\n",
       "      <td>S</td>\n",
       "      <td>Third</td>\n",
       "      <td>man</td>\n",
       "      <td>True</td>\n",
       "      <td>NaN</td>\n",
       "      <td>Southampton</td>\n",
       "      <td>no</td>\n",
       "      <td>True</td>\n",
       "    </tr>\n",
       "  </tbody>\n",
       "</table>\n",
       "</div>"
      ],
      "text/plain": [
       "   survived  pclass     sex   age  sibsp  parch     fare embarked  class   \n",
       "0         0       3    male  22.0      1      0   7.2500        S  Third  \\\n",
       "1         1       1  female  38.0      1      0  71.2833        C  First   \n",
       "2         1       3  female  26.0      0      0   7.9250        S  Third   \n",
       "3         1       1  female  35.0      1      0  53.1000        S  First   \n",
       "4         0       3    male  35.0      0      0   8.0500        S  Third   \n",
       "\n",
       "     who  adult_male deck  embark_town alive  alone  \n",
       "0    man        True  NaN  Southampton    no  False  \n",
       "1  woman       False    C    Cherbourg   yes  False  \n",
       "2  woman       False  NaN  Southampton   yes   True  \n",
       "3  woman       False    C  Southampton   yes  False  \n",
       "4    man        True  NaN  Southampton    no   True  "
      ]
     },
     "execution_count": 137,
     "metadata": {},
     "output_type": "execute_result"
    }
   ],
   "source": [
    "df.head()"
   ]
  },
  {
   "cell_type": "code",
   "execution_count": 138,
   "metadata": {},
   "outputs": [
    {
     "data": {
      "text/plain": [
       "survived       0.000000\n",
       "pclass         0.000000\n",
       "sex            0.000000\n",
       "age            0.198653\n",
       "sibsp          0.000000\n",
       "parch          0.000000\n",
       "fare           0.000000\n",
       "embarked       0.002245\n",
       "class          0.000000\n",
       "who            0.000000\n",
       "adult_male     0.000000\n",
       "deck           0.772166\n",
       "embark_town    0.002245\n",
       "alive          0.000000\n",
       "alone          0.000000\n",
       "dtype: float64"
      ]
     },
     "execution_count": 138,
     "metadata": {},
     "output_type": "execute_result"
    }
   ],
   "source": [
    "#report nans\n",
    "df.isnull().mean()"
   ]
  },
  {
   "cell_type": "code",
   "execution_count": 139,
   "metadata": {},
   "outputs": [
    {
     "name": "stdout",
     "output_type": "stream",
     "text": [
      "<class 'pandas.core.frame.DataFrame'>\n",
      "RangeIndex: 891 entries, 0 to 890\n",
      "Data columns (total 15 columns):\n",
      " #   Column       Non-Null Count  Dtype  \n",
      "---  ------       --------------  -----  \n",
      " 0   survived     891 non-null    int64  \n",
      " 1   pclass       891 non-null    int64  \n",
      " 2   sex          891 non-null    object \n",
      " 3   age          714 non-null    float64\n",
      " 4   sibsp        891 non-null    int64  \n",
      " 5   parch        891 non-null    int64  \n",
      " 6   fare         891 non-null    float64\n",
      " 7   embarked     889 non-null    object \n",
      " 8   class        891 non-null    object \n",
      " 9   who          891 non-null    object \n",
      " 10  adult_male   891 non-null    bool   \n",
      " 11  deck         203 non-null    object \n",
      " 12  embark_town  889 non-null    object \n",
      " 13  alive        891 non-null    object \n",
      " 14  alone        891 non-null    bool   \n",
      "dtypes: bool(2), float64(2), int64(4), object(7)\n",
      "memory usage: 92.4+ KB\n"
     ]
    }
   ],
   "source": [
    "df.info()"
   ]
  },
  {
   "cell_type": "code",
   "execution_count": null,
   "metadata": {},
   "outputs": [],
   "source": [
    "# Checking for data imbalance\n",
    "df[target_column].value_counts()"
   ]
  },
  {
   "cell_type": "markdown",
   "metadata": {},
   "source": [
    "## Supporting functions"
   ]
  },
  {
   "cell_type": "code",
   "execution_count": 140,
   "metadata": {},
   "outputs": [],
   "source": [
    "## functions for preprocessing\n",
    "\n",
    "#check for duplicates\n",
    "def check_duplicates(df):\n",
    "    has_dup = df.duplicated()\n",
    "    true_dup = np.where(has_dup == True)\n",
    "    if len(true_dup[0]) > 0:\n",
    "        print(\"Data has\", len(true_dup[0]), \"duplicates\")\n",
    "        df.drop_duplicates(keep='first', inplace=True)\n",
    "    else:\n",
    "        print(\"No duplicates found\")\n",
    "    return df\n",
    "\n",
    "#function for one-hot encoding\n",
    "def one_hot(df, column_names):\n",
    "    for col in column_names:\n",
    "        dummies = pd.get_dummies(df[[col]].astype('category'),drop_first=True)\n",
    "        df = pd.concat([df, dummies], axis=1)\n",
    "        df = df.drop([col], axis=1)\n",
    "    return df\n",
    "\n",
    "#function for adding interaction terms between all columns\n",
    "def add_full_interactions(df,degree=2):\n",
    "    poly = PolynomialFeatures(interaction_only=True, include_bias=False, degree=degree)\n",
    "    X_poly = poly.fit_transform(df)\n",
    "    column_names = list(poly.get_feature_names_out())\n",
    "    X_poly = pd.DataFrame(X_poly,columns=column_names)\n",
    "    return X_poly\n",
    "\n",
    "#function for adding interaction terms between select columns\n",
    "def add_interactions(df,columns,degree=2):\n",
    "    poly = PolynomialFeatures(interaction_only=True, include_bias=False, degree=degree)\n",
    "    X_poly = poly.fit_transform(df[columns])\n",
    "    column_names = list(poly.get_feature_names_out())\n",
    "    X_poly = pd.DataFrame(X_poly,columns=column_names)\n",
    "    X_poly = pd.concat([df, X_poly.drop(columns,axis=1)], axis=1)\n",
    "    return X_poly\n",
    "\n",
    "#function for computing sigmoid (e.g. to look at logistic regression fit)\n",
    "def sigmoid(x,b):\n",
    "    return 1 / (1 + np.exp(-(b+x)))\n",
    "\n",
    "#min-max scale vector to pre-specified range\n",
    "def linmap(vector, new_min, new_max):\n",
    "    vector = np.array(vector)\n",
    "    old_min = np.min(vector)\n",
    "    old_max = np.max(vector)\n",
    "    \n",
    "    # Avoid division by zero if the old_min equals old_max\n",
    "    if old_min == old_max:\n",
    "        return np.full_like(vector, new_min if old_min == old_max else new_max)\n",
    "    \n",
    "    # Scale the vector\n",
    "    scaled_vector = (vector - old_min) / (old_max - old_min) * (new_max - new_min) + new_min\n",
    "    return scaled_vector\n"
   ]
  },
  {
   "cell_type": "markdown",
   "metadata": {},
   "source": [
    "## Main function for cleaning"
   ]
  },
  {
   "cell_type": "code",
   "execution_count": 141,
   "metadata": {},
   "outputs": [],
   "source": [
    "def clean_data(df,target_column):\n",
    "    ### main preprocessing function:\n",
    "\n",
    "    ## done on train and test set together\n",
    "    \n",
    "    #clean up column names\n",
    "    df.columns = [col.replace(' ', '_') for col in df.columns]\n",
    "    df.columns = [col.replace('(',  '') for col in df.columns]\n",
    "    df.columns = [col.replace(')',  '') for col in df.columns]\n",
    "\n",
    "    #drop column names that we don't need\n",
    "    df = df.drop(['embark_town', 'alive', 'deck','who','class'],axis=1)\n",
    "\n",
    "    #check and report on duplicate data\n",
    "    df = check_duplicates(df)\n",
    "\n",
    "    #run train-test split\n",
    "    #note: X still contains the y-variable in the 'target' column, this is because it \n",
    "    #easier to remove rows / apply cleaning steps without having to do it separately \n",
    "    #for the target data vector.\n",
    "    X = df\n",
    "    X_train, X_test, _, _ = train_test_split(X, df[target_column], random_state=1234) \n",
    "\n",
    "    X_train.reset_index(drop=True, inplace=True)\n",
    "    X_test.reset_index(drop=True, inplace=True)\n",
    "\n",
    "\n",
    "    ## done separately for train and test\n",
    "\n",
    "    #imputing\n",
    "    X_train.age = X_train.age.fillna(X_train.age.median())\n",
    "    X_test.age  = X_test.age.fillna(X_test.age.median())\n",
    "\n",
    "    #non-linear scaling of values\n",
    "    X_train['fare'] = X_train.fare.apply(lambda x: np.log(x) if x > 0 else 0)\n",
    "    X_test['fare']  = X_test.fare.apply(lambda x: np.log(x) if x > 0 else 0)\n",
    "\n",
    "    #define / identify columns for range normalization\n",
    "    df['pclass'] = df['pclass'].astype('category')\n",
    "    columns_to_scale = df.select_dtypes(include='number').columns.drop(target_column) #identify the numberic columns\n",
    "  \n",
    "\n",
    "    #remove outliers from the training set\n",
    "    outlier_trheshold = X_train['fare'].median()+(X_train['fare'].std()*3)\n",
    "    print(str(np.sum(X_train['fare'] > outlier_trheshold)) + \" outliers detected\")\n",
    "    X_train = X_train[X_train['fare'] < outlier_trheshold]\n",
    "    X_train.reset_index(drop=True, inplace=True)    \n",
    "\n",
    "    #range normalization\n",
    "    scaler = MinMaxScaler()\n",
    "    scaler.set_output(transform=\"pandas\")\n",
    "\n",
    "    X_train_scaled = scaler.fit_transform(X_train[columns_to_scale])\n",
    "    X_test_scaled  = scaler.transform(X_test[columns_to_scale])\n",
    "    X_train = pd.concat([X_train_scaled, X_train.drop(columns_to_scale,axis=1)], axis=1)\n",
    "    X_test  = pd.concat([X_test_scaled, X_test.drop(columns_to_scale,axis=1)], axis=1)\n",
    "\n",
    "    #separate the target\n",
    "    y_train = X_train[target_column]\n",
    "    X_train = X_train.drop(target_column,axis=1)\n",
    "    y_test = X_test[target_column]\n",
    "    X_test = X_test.drop(target_column,axis=1)\n",
    "\n",
    "    return X_train, X_test, y_train, y_test"
   ]
  },
  {
   "cell_type": "markdown",
   "metadata": {},
   "source": [
    "##  Main function for Feature engineering"
   ]
  },
  {
   "cell_type": "code",
   "execution_count": 142,
   "metadata": {},
   "outputs": [],
   "source": [
    "def feature_engineer(df,columns_to_interact,columns_to_dummycode):\n",
    "\n",
    "    #add interaction terms\n",
    "    df = add_interactions(df,columns_to_interact)\n",
    "\n",
    "    #one-hot encode categorical variables\n",
    "    df = one_hot(df,columns_to_dummycode)\n",
    "\n",
    "    return df"
   ]
  },
  {
   "cell_type": "markdown",
   "metadata": {},
   "source": [
    "## Clean the data and make features"
   ]
  },
  {
   "cell_type": "code",
   "execution_count": 143,
   "metadata": {},
   "outputs": [
    {
     "name": "stdout",
     "output_type": "stream",
     "text": [
      "Data has 111 duplicates\n",
      "2 outliers detected\n"
     ]
    }
   ],
   "source": [
    "X_train, X_test, y_train, y_test = clean_data(df,target_column)"
   ]
  },
  {
   "cell_type": "code",
   "execution_count": 144,
   "metadata": {},
   "outputs": [],
   "source": [
    "columns_to_interact  = ['adult_male','alone']\n",
    "columns_to_dummycode = ['pclass','sex','embarked','adult_male','alone','adult_male alone']\n",
    "\n",
    "X_train = feature_engineer(X_train,columns_to_interact,columns_to_dummycode)\n",
    "X_test  = feature_engineer(X_test,columns_to_interact,columns_to_dummycode)"
   ]
  },
  {
   "cell_type": "markdown",
   "metadata": {},
   "source": [
    "## Check the model"
   ]
  },
  {
   "cell_type": "code",
   "execution_count": 145,
   "metadata": {},
   "outputs": [
    {
     "data": {
      "text/plain": [
       "<Axes: >"
      ]
     },
     "execution_count": 145,
     "metadata": {},
     "output_type": "execute_result"
    },
    {
     "data": {
      "image/png": "[encoded data removed]",
      "text/plain": [
       "<Figure size 640x480 with 2 Axes>"
      ]
     },
     "metadata": {},
     "output_type": "display_data"
    }
   ],
   "source": [
    "#plot correlation between regressors\n",
    "sns.heatmap(X_train.corr())"
   ]
  },
  {
   "cell_type": "markdown",
   "metadata": {},
   "source": [
    "## Fit the model"
   ]
  },
  {
   "cell_type": "code",
   "execution_count": 146,
   "metadata": {},
   "outputs": [
    {
     "data": {
      "image/png": "[encoded data removed]",
      "text/plain": [
       "<Figure size 640x480 with 2 Axes>"
      ]
     },
     "metadata": {},
     "output_type": "display_data"
    },
    {
     "name": "stdout",
     "output_type": "stream",
     "text": [
      "Precision:  0.8382352941176471\n",
      "Recall:  0.6785714285714286\n",
      "F1-score:  0.7500000000000001\n",
      "Accuracy:  0.8051282051282052\n"
     ]
    }
   ],
   "source": [
    "lr = LogisticRegression()\n",
    "lr.fit(X_train,y_train)\n",
    "\n",
    "y_pred = lr.predict(X_test)\n",
    "\n",
    "cfm = confusion_matrix(y_test, y_pred)\n",
    "sns.heatmap(cfm, cmap='inferno', annot=True, fmt='d', linewidths=.5)\n",
    "plt.xlabel('Predicted')\n",
    "plt.ylabel('Actual')\n",
    "plt.show()\n",
    "\n",
    "print('Precision: ', precision_score(y_test, y_pred))\n",
    "print('Recall: ', recall_score(y_test, y_pred))\n",
    "print('F1-score: ', f1_score(y_test, y_pred))\n",
    "print('Accuracy: ', accuracy_score(y_test, y_pred))"
   ]
  },
  {
   "cell_type": "code",
   "execution_count": 147,
   "metadata": {},
   "outputs": [
    {
     "ename": "TypeError",
     "evalue": "BaseEstimator.get_params() missing 1 required positional argument: 'self'",
     "output_type": "error",
     "traceback": [
      "\u001b[1;31m---------------------------------------------------------------------------\u001b[0m",
      "\u001b[1;31mTypeError\u001b[0m                                 Traceback (most recent call last)",
      "Cell \u001b[1;32mIn[147], line 1\u001b[0m\n\u001b[1;32m----> 1\u001b[0m \u001b[43mLogisticRegression\u001b[49m\u001b[38;5;241;43m.\u001b[39;49m\u001b[43mget_params\u001b[49m\u001b[43m(\u001b[49m\u001b[43m)\u001b[49m\u001b[38;5;241m.\u001b[39mkeys() \n",
      "\u001b[1;31mTypeError\u001b[0m: BaseEstimator.get_params() missing 1 required positional argument: 'self'"
     ]
    }
   ],
   "source": []
  },
  {
   "cell_type": "code",
   "execution_count": null,
   "metadata": {},
   "outputs": [],
   "source": [
    "\n",
    "LogisticRegression.get_params().keys() \n",
    "\n",
    "# Define parameter grid for randomized search\n",
    "param_grid = {\"n_neighbors\" : [2,4,3,5,10], #this actually defines the model you use\n",
    "              \"weights\" : [\"uniform\", \"distance\"],\n",
    "              \"p\" : [1, 2, 3],\n",
    "              \"algorithm\": [\"ball_tree\", \"kd_tree\", \"brute\"]\n",
    "             }\n",
    "\n",
    "# Instantiate random search and define the metric to optimize \n",
    "rs = RandomizedSearchCV(KNeighborsClassifier(), param_grid, scoring='accuracy',\n",
    "                  cv=5, verbose=5, n_jobs=-1, n_iter=10, random_state=RSEED)\n",
    "# Fit randomized search object to data\n",
    "start = timer()\n",
    "rs.fit(X_train_preprocessed, y_train)\n",
    "end = timer()\n",
    "rgs_time = end-start\n",
    "# Best score\n",
    "print('Best score:', round(rs.best_score_, 3))\n",
    "# Best parameters\n",
    "print('Best parameters:', rs.best_params_)\n",
    "# Assigning the fitted KNNClassifier model with best parameter combination to a new variable knn_best\n",
    "knn_best_rs = rs.best_estimator_\n",
    "# Making predictions on the test set\n",
    "y_pred_test_rs = knn_best_rs.predict(X_test_preprocessed)\n",
    "# Let us print out the performance of our model on the test set.\n",
    "rknn_accuracy = print_pretty_summary('KNNClassifier model (randomizedGSCV)', knn_best_rs, y_test, y_pred_test_rs)\n",
    "\n",
    "print(f\"Grid search took {gs_time} seconds to run with accuracy: {knn_accuracy:f}\")\n",
    "print(f\"Randomized Grid search took {rgs_time} seconds to run with accuracy: {rknn_accuracy:f}\")\n"
   ]
  }
 ],
 "metadata": {
  "kernelspec": {
   "display_name": ".venv",
   "language": "python",
   "name": "python3"
  },
  "language_info": {
   "codemirror_mode": {
    "name": "ipython",
    "version": 3
   },
   "file_extension": ".py",
   "mimetype": "text/x-python",
   "name": "python",
   "nbconvert_exporter": "python",
   "pygments_lexer": "ipython3",
   "version": "3.11.3"
  }
 },
 "nbformat": 4,
 "nbformat_minor": 2
}
